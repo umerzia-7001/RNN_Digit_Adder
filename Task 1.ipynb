{
 "cells": [
  {
   "cell_type": "markdown",
   "metadata": {},
   "source": [
    "# Making Your Model Learn Addition!\n",
    "##  Introduction\n",
    "\n",
    "Given the string \"54+7\", the model should return a prediction: \"61\"."
   ]
  },
  {
   "cell_type": "code",
   "execution_count": 1,
   "metadata": {
    "collapsed": true
   },
   "outputs": [
    {
     "name": "stdout",
     "output_type": "stream",
     "text": [
      "Requirement already satisfied: numpy in /Users/apple/Library/Python/3.7/lib/python/site-packages (1.18.1)\n",
      "\u001b[33mWARNING: You are using pip version 20.0.2; however, version 20.1.1 is available.\n",
      "You should consider upgrading via the '/Library/Frameworks/Python.framework/Versions/3.7/bin/python3.7 -m pip install --upgrade pip' command.\u001b[0m\n",
      "Requirement already satisfied: keras in /Library/Frameworks/Python.framework/Versions/3.7/lib/python3.7/site-packages (2.3.1)\n",
      "Requirement already satisfied: keras-preprocessing>=1.0.5 in /Users/apple/Library/Python/3.7/lib/python/site-packages (from keras) (1.1.0)\n",
      "Requirement already satisfied: scipy>=0.14 in /Users/apple/Library/Python/3.7/lib/python/site-packages (from keras) (1.4.1)\n",
      "Requirement already satisfied: keras-applications>=1.0.6 in /Users/apple/Library/Python/3.7/lib/python/site-packages (from keras) (1.0.8)\n",
      "Requirement already satisfied: six>=1.9.0 in /Library/Frameworks/Python.framework/Versions/3.7/lib/python3.7/site-packages (from keras) (1.14.0)\n",
      "Requirement already satisfied: pyyaml in /Library/Frameworks/Python.framework/Versions/3.7/lib/python3.7/site-packages (from keras) (5.3.1)\n",
      "Requirement already satisfied: numpy>=1.9.1 in /Users/apple/Library/Python/3.7/lib/python/site-packages (from keras) (1.18.1)\n",
      "Requirement already satisfied: h5py in /Users/apple/Library/Python/3.7/lib/python/site-packages (from keras) (2.10.0)\n",
      "\u001b[33mWARNING: You are using pip version 20.0.2; however, version 20.1.1 is available.\n",
      "You should consider upgrading via the '/Library/Frameworks/Python.framework/Versions/3.7/bin/python3.7 -m pip install --upgrade pip' command.\u001b[0m\n",
      "Requirement already satisfied: tensorflow in /Library/Frameworks/Python.framework/Versions/3.7/lib/python3.7/site-packages (1.13.1)\n",
      "Requirement already satisfied: grpcio>=1.8.6 in /Users/apple/Library/Python/3.7/lib/python/site-packages (from tensorflow) (1.27.2)\n",
      "Requirement already satisfied: astor>=0.6.0 in /Users/apple/Library/Python/3.7/lib/python/site-packages (from tensorflow) (0.8.1)\n",
      "Requirement already satisfied: six>=1.10.0 in /Library/Frameworks/Python.framework/Versions/3.7/lib/python3.7/site-packages (from tensorflow) (1.14.0)\n",
      "Requirement already satisfied: termcolor>=1.1.0 in /Users/apple/Library/Python/3.7/lib/python/site-packages (from tensorflow) (1.1.0)\n",
      "Requirement already satisfied: tensorflow-estimator<1.14.0rc0,>=1.13.0 in /Library/Frameworks/Python.framework/Versions/3.7/lib/python3.7/site-packages (from tensorflow) (1.13.0)\n",
      "Requirement already satisfied: protobuf>=3.6.1 in /Users/apple/Library/Python/3.7/lib/python/site-packages (from tensorflow) (3.11.3)\n",
      "Requirement already satisfied: keras-preprocessing>=1.0.5 in /Users/apple/Library/Python/3.7/lib/python/site-packages (from tensorflow) (1.1.0)\n",
      "Requirement already satisfied: keras-applications>=1.0.6 in /Users/apple/Library/Python/3.7/lib/python/site-packages (from tensorflow) (1.0.8)\n",
      "Requirement already satisfied: tensorboard<1.14.0,>=1.13.0 in /Library/Frameworks/Python.framework/Versions/3.7/lib/python3.7/site-packages (from tensorflow) (1.13.1)\n",
      "Requirement already satisfied: wheel>=0.26 in /Users/apple/Library/Python/3.7/lib/python/site-packages (from tensorflow) (0.34.2)\n",
      "Requirement already satisfied: gast>=0.2.0 in /Users/apple/Library/Python/3.7/lib/python/site-packages (from tensorflow) (0.2.2)\n",
      "Requirement already satisfied: numpy>=1.13.3 in /Users/apple/Library/Python/3.7/lib/python/site-packages (from tensorflow) (1.18.1)\n",
      "Requirement already satisfied: absl-py>=0.1.6 in /Users/apple/Library/Python/3.7/lib/python/site-packages (from tensorflow) (0.9.0)\n",
      "Requirement already satisfied: mock>=2.0.0 in /Library/Frameworks/Python.framework/Versions/3.7/lib/python3.7/site-packages (from tensorflow-estimator<1.14.0rc0,>=1.13.0->tensorflow) (4.0.2)\n",
      "Requirement already satisfied: setuptools in /Library/Frameworks/Python.framework/Versions/3.7/lib/python3.7/site-packages (from protobuf>=3.6.1->tensorflow) (46.0.0)\n",
      "Requirement already satisfied: h5py in /Users/apple/Library/Python/3.7/lib/python/site-packages (from keras-applications>=1.0.6->tensorflow) (2.10.0)\n",
      "Requirement already satisfied: markdown>=2.6.8 in /Users/apple/Library/Python/3.7/lib/python/site-packages (from tensorboard<1.14.0,>=1.13.0->tensorflow) (3.2.1)\n",
      "Requirement already satisfied: werkzeug>=0.11.15 in /Users/apple/Library/Python/3.7/lib/python/site-packages (from tensorboard<1.14.0,>=1.13.0->tensorflow) (1.0.0)\n",
      "\u001b[33mWARNING: You are using pip version 20.0.2; however, version 20.1.1 is available.\n",
      "You should consider upgrading via the '/Library/Frameworks/Python.framework/Versions/3.7/bin/python3.7 -m pip install --upgrade pip' command.\u001b[0m\n"
     ]
    },
    {
     "name": "stderr",
     "output_type": "stream",
     "text": [
      "/Library/Frameworks/Python.framework/Versions/3.7/lib/python3.7/site-packages/tensorflow/python/framework/dtypes.py:526: FutureWarning: Passing (type, 1) or '1type' as a synonym of type is deprecated; in a future version of numpy, it will be understood as (type, (1,)) / '(1,)type'.\n",
      "  _np_qint8 = np.dtype([(\"qint8\", np.int8, 1)])\n",
      "/Library/Frameworks/Python.framework/Versions/3.7/lib/python3.7/site-packages/tensorflow/python/framework/dtypes.py:527: FutureWarning: Passing (type, 1) or '1type' as a synonym of type is deprecated; in a future version of numpy, it will be understood as (type, (1,)) / '(1,)type'.\n",
      "  _np_quint8 = np.dtype([(\"quint8\", np.uint8, 1)])\n",
      "/Library/Frameworks/Python.framework/Versions/3.7/lib/python3.7/site-packages/tensorflow/python/framework/dtypes.py:528: FutureWarning: Passing (type, 1) or '1type' as a synonym of type is deprecated; in a future version of numpy, it will be understood as (type, (1,)) / '(1,)type'.\n",
      "  _np_qint16 = np.dtype([(\"qint16\", np.int16, 1)])\n",
      "/Library/Frameworks/Python.framework/Versions/3.7/lib/python3.7/site-packages/tensorflow/python/framework/dtypes.py:529: FutureWarning: Passing (type, 1) or '1type' as a synonym of type is deprecated; in a future version of numpy, it will be understood as (type, (1,)) / '(1,)type'.\n",
      "  _np_quint16 = np.dtype([(\"quint16\", np.uint16, 1)])\n",
      "/Library/Frameworks/Python.framework/Versions/3.7/lib/python3.7/site-packages/tensorflow/python/framework/dtypes.py:530: FutureWarning: Passing (type, 1) or '1type' as a synonym of type is deprecated; in a future version of numpy, it will be understood as (type, (1,)) / '(1,)type'.\n",
      "  _np_qint32 = np.dtype([(\"qint32\", np.int32, 1)])\n",
      "/Library/Frameworks/Python.framework/Versions/3.7/lib/python3.7/site-packages/tensorflow/python/framework/dtypes.py:535: FutureWarning: Passing (type, 1) or '1type' as a synonym of type is deprecated; in a future version of numpy, it will be understood as (type, (1,)) / '(1,)type'.\n",
      "  np_resource = np.dtype([(\"resource\", np.ubyte, 1)])\n"
     ]
    }
   ],
   "source": [
    "import sys\n",
    "sys.path.append('/Library/Frameworks/Python.framework/Versions/3.7/lib/python3.7/site-packages')\n",
    "!pip3 install numpy\n",
    "!pip3 install keras\n",
    "!pip3 install tensorflow\n",
    "import numpy as np\n",
    "from tensorflow.keras.models import Sequential\n",
    "from tensorflow.keras.layers import TimeDistributed, Dense, Dropout, SimpleRNN, RepeatVector\n",
    "from tensorflow.keras.callbacks import EarlyStopping, LambdaCallback\n",
    "from termcolor import colored"
   ]
  },
  {
   "cell_type": "markdown",
   "metadata": {},
   "source": [
    "# Generating Data"
   ]
  },
  {
   "cell_type": "code",
   "execution_count": 2,
   "metadata": {
    "colab": {
     "base_uri": "https://localhost:8080/",
     "height": 34
    },
    "colab_type": "code",
    "id": "hP-OyQrivBNl",
    "outputId": "70a8ce77-3241-4ea9-dbc7-d9bebb3789f3"
   },
   "outputs": [],
   "source": [
    "all_chars='0123456789+'"
   ]
  },
  {
   "cell_type": "code",
   "execution_count": 3,
   "metadata": {},
   "outputs": [
    {
     "name": "stdout",
     "output_type": "stream",
     "text": [
      "number of features  11\n"
     ]
    }
   ],
   "source": [
    "num_features=len(all_chars)\n",
    "print('number of features ',num_features)\n",
    "char_to_index=dict((c,i)for i,c in enumerate(all_chars))\n",
    "index_to_char=dict((i,c)for i,c in enumerate(all_chars))\n"
   ]
  },
  {
   "cell_type": "code",
   "execution_count": 4,
   "metadata": {
    "colab": {},
    "colab_type": "code",
    "id": "L2b1Xg9hvBNr"
   },
   "outputs": [
    {
     "data": {
      "text/plain": [
       "('95+20', '115')"
      ]
     },
     "execution_count": 4,
     "metadata": {},
     "output_type": "execute_result"
    }
   ],
   "source": [
    "def generate_data():\n",
    "    first=np.random.randint(0,100)\n",
    "    second=np.random.randint(0,100)\n",
    "    example=str(first)+'+'+str(second)\n",
    "    label=str(first+second)\n",
    "    return example, label\n",
    "generate_data()"
   ]
  },
  {
   "cell_type": "markdown",
   "metadata": {},
   "source": [
    "# Create the Model"
   ]
  },
  {
   "cell_type": "code",
   "execution_count": 5,
   "metadata": {
    "colab": {
     "base_uri": "https://localhost:8080/",
     "height": 377
    },
    "colab_type": "code",
    "id": "iZKl0LtdvBNy",
    "outputId": "34a3c344-5985-4e3b-e1ac-392c18739308"
   },
   "outputs": [
    {
     "name": "stdout",
     "output_type": "stream",
     "text": [
      "WARNING:tensorflow:From /Library/Frameworks/Python.framework/Versions/3.7/lib/python3.7/site-packages/tensorflow/python/ops/resource_variable_ops.py:435: colocate_with (from tensorflow.python.framework.ops) is deprecated and will be removed in a future version.\n",
      "Instructions for updating:\n",
      "Colocations handled automatically by placer.\n",
      "_________________________________________________________________\n",
      "Layer (type)                 Output Shape              Param #   \n",
      "=================================================================\n",
      "simple_rnn (SimpleRNN)       (None, 128)               17920     \n",
      "_________________________________________________________________\n",
      "repeat_vector (RepeatVector) (None, 5, 128)            0         \n",
      "_________________________________________________________________\n",
      "simple_rnn_1 (SimpleRNN)     (None, 5, 128)            32896     \n",
      "_________________________________________________________________\n",
      "time_distributed (TimeDistri (None, 5, 11)             1419      \n",
      "=================================================================\n",
      "Total params: 52,235\n",
      "Trainable params: 52,235\n",
      "Non-trainable params: 0\n",
      "_________________________________________________________________\n"
     ]
    }
   ],
   "source": [
    "hidden_units=128\n",
    "max_time_steps=5\n",
    "\n",
    "model=Sequential([\n",
    "    #encoder\n",
    "    SimpleRNN(hidden_units,input_shape=(None,num_features)),\n",
    "    RepeatVector(max_time_steps),\n",
    "    # decoder\n",
    "    SimpleRNN(hidden_units,return_sequences=True),\n",
    "    TimeDistributed(Dense(num_features,activation='softmax'))\n",
    "])\n",
    "model.compile(\n",
    "loss='categorical_crossentropy',\n",
    "optimizer='adam',\n",
    "metrics=['accuracy'])\n",
    "model.summary()"
   ]
  },
  {
   "cell_type": "markdown",
   "metadata": {},
   "source": [
    "# Vectorize and De-Vectorize Data"
   ]
  },
  {
   "cell_type": "code",
   "execution_count": 6,
   "metadata": {
    "colab": {},
    "colab_type": "code",
    "id": "Ci29YaA6vBN1"
   },
   "outputs": [
    {
     "name": "stdout",
     "output_type": "stream",
     "text": [
      "34+38 72\n",
      "(5, 11) (5, 11)\n"
     ]
    }
   ],
   "source": [
    "def vectorize_example(example,label):\n",
    "    x = np.zeros((max_time_steps,num_features))\n",
    "    y = np.zeros((max_time_steps,num_features))\n",
    "    \n",
    "    \n",
    "    diff_x = max_time_steps-len(example)\n",
    "    diff_y = max_time_steps-len(label)\n",
    "    \n",
    "    for i,c in enumerate(example):\n",
    "        x[i+diff_x,char_to_index[c]]=1\n",
    "    for i in range(diff_x):\n",
    "        x[i,char_to_index['0']]=1\n",
    "    for i,c in enumerate(label):\n",
    "        y[i+diff_y,char_to_index[c]]=1\n",
    "    for i in range(diff_y):\n",
    "        y[i,char_to_index['0']]=1\n",
    "    return x,y\n",
    "e,l=generate_data()\n",
    "print(e,l)\n",
    "x,y=vectorize_example(e,l)\n",
    "print(x.shape,y.shape)\n",
    "    \n",
    "    \n",
    "        \n",
    "    \n",
    "    "
   ]
  },
  {
   "cell_type": "code",
   "execution_count": 7,
   "metadata": {
    "colab": {},
    "colab_type": "code",
    "id": "_nARKq-bvBN9"
   },
   "outputs": [
    {
     "data": {
      "text/plain": [
       "'34+38'"
      ]
     },
     "execution_count": 7,
     "metadata": {},
     "output_type": "execute_result"
    }
   ],
   "source": [
    "def devectorize_example(example):\n",
    "    result=[index_to_char[np.argmax(vec)]for i,vec in enumerate(example)]\n",
    "    return ''.join(result)\n",
    "devectorize_example(x)\n"
   ]
  },
  {
   "cell_type": "code",
   "execution_count": 8,
   "metadata": {
    "colab": {
     "base_uri": "https://localhost:8080/",
     "height": 34
    },
    "colab_type": "code",
    "id": "KCGUxNwNvBOA",
    "outputId": "a721451a-7f7c-42be-bdf0-0c96381f2eb2"
   },
   "outputs": [
    {
     "data": {
      "text/plain": [
       "'00072'"
      ]
     },
     "execution_count": 8,
     "metadata": {},
     "output_type": "execute_result"
    }
   ],
   "source": [
    "devectorize_example(y)"
   ]
  },
  {
   "cell_type": "markdown",
   "metadata": {},
   "source": [
    "#  Creating dataset "
   ]
  },
  {
   "cell_type": "code",
   "execution_count": 9,
   "metadata": {
    "colab": {
     "base_uri": "https://localhost:8080/",
     "height": 34
    },
    "colab_type": "code",
    "id": "T5rdrhiVvBOI",
    "outputId": "426b3722-78cf-494f-8bbf-1cdf7eab3113"
   },
   "outputs": [
    {
     "name": "stdout",
     "output_type": "stream",
     "text": [
      "(2000, 5, 11) (2000, 5, 11)\n"
     ]
    }
   ],
   "source": [
    "def create_dataset(num_examples=2000):\n",
    "    x=np.zeros((num_examples,max_time_steps,num_features))\n",
    "    y=np.zeros((num_examples,max_time_steps,num_features))\n",
    "    for i in range(num_examples):\n",
    "        e,l=generate_data()\n",
    "        e_v,l_v=vectorize_example(e,l)\n",
    "        x[i]=e_v\n",
    "        y[i]=l_v\n",
    "    return x,y\n",
    "\n",
    "\n",
    "x,y=create_dataset()\n",
    "print(x.shape,y.shape)\n",
    "\n"
   ]
  },
  {
   "cell_type": "code",
   "execution_count": 10,
   "metadata": {
    "colab": {
     "base_uri": "https://localhost:8080/",
     "height": 34
    },
    "colab_type": "code",
    "id": "RRwiuwcQvBOL",
    "outputId": "07591064-5c57-4adb-ccf6-c226457d2263"
   },
   "outputs": [
    {
     "data": {
      "text/plain": [
       "'05+35'"
      ]
     },
     "execution_count": 10,
     "metadata": {},
     "output_type": "execute_result"
    }
   ],
   "source": [
    "devectorize_example(x[0])"
   ]
  },
  {
   "cell_type": "code",
   "execution_count": 11,
   "metadata": {
    "colab": {
     "base_uri": "https://localhost:8080/",
     "height": 34
    },
    "colab_type": "code",
    "id": "cRUvtd0IvBOO",
    "outputId": "d07ce279-06ba-44c4-de91-0ec4fb551877"
   },
   "outputs": [
    {
     "data": {
      "text/plain": [
       "'00040'"
      ]
     },
     "execution_count": 11,
     "metadata": {},
     "output_type": "execute_result"
    }
   ],
   "source": [
    "devectorize_example(y[0])"
   ]
  },
  {
   "cell_type": "markdown",
   "metadata": {},
   "source": [
    "# Training model\n"
   ]
  },
  {
   "cell_type": "code",
   "execution_count": 12,
   "metadata": {
    "colab": {
     "base_uri": "https://localhost:8080/",
     "height": 2686
    },
    "colab_type": "code",
    "id": "S8HWRdiOvBOS",
    "outputId": "2365b11f-30e8-48cc-e940-4d3267771fbe"
   },
   "outputs": [
    {
     "name": "stdout",
     "output_type": "stream",
     "text": [
      "WARNING:tensorflow:From /Library/Frameworks/Python.framework/Versions/3.7/lib/python3.7/site-packages/tensorflow/python/ops/math_ops.py:3066: to_int32 (from tensorflow.python.ops.math_ops) is deprecated and will be removed in a future version.\n",
      "Instructions for updating:\n",
      "Use tf.cast instead.\n",
      "0.54_ 0.60_ 0.60_ 0.61_ 0.61_ 0.61_ 0.62_ 0.63_ 0.63_ 0.64_ 0.64_ 0.65_ 0.65_ 0.65_ 0.65_ 0.65_ 0.66_ 0.66_ 0.67_ 0.66_ 0.67_ 0.68_ 0.69_ 0.68_ 0.69_ 0.70_ 0.70_ 0.70_ 0.70_ 0.71_ 0.71_ 0.71_ 0.73_ 0.72_ 0.74_ 0.74_ 0.73_ 0.75_ 0.74_ 0.75_ 0.75_ 0.75_ 0.76_ 0.76_ 0.76_ 0.77_ 0.77_ 0.77_ 0.77_ 0.78_ 0.78_ 0.78_ 0.78_ 0.80_ 0.80_ 0.81_ 0.80_ 0.81_ 0.82_ 0.82_ 0.83_ 0.83_ 0.83_ 0.84_ 0.84_ 0.85_ 0.84_ 0.85_ 0.85_ 0.85_ 0.85_ 0.85_ 0.85_ 0.86_ 0.86_ 0.87_ 0.87_ 0.87_ 0.87_ 0.87_ 0.88_ 0.88_ 0.88_ 0.88_ 0.88_ 0.89_ 0.89_ 0.89_ 0.89_ 0.89_ 0.89_ 0.90_ 0.89_ 0.90_ 0.90_ 0.90_ 0.90_ 0.90_ 0.90_ 0.90_ 0.91_ 0.91_ 0.90_ 0.91_ 0.91_ 0.91_ 0.91_ 0.91_ 0.91_ 0.91_ 0.91_ 0.91_ 0.91_ 0.91_ 0.91_ 0.91_ 0.91_ 0.91_ 0.92_ 0.92_ 0.91_ 0.92_ 0.92_ 0.91_ 0.92_ 0.92_ 0.92_ 0.92_ 0.92_ 0.92_ 0.92_ 0.92_ 0.92_ 0.92_ 0.92_ 0.92_ 0.92_ 0.92_ 0.93_ 0.93_ 0.93_ 0.93_ 0.93_ 0.93_ 0.93_ 0.93_ 0.93_ 0.93_ 0.93_ 0.93_ 0.93_ 0.93_ 0.93_ 0.93_ 0.93_ 0.93_ 0.93_ 0.93_ 0.93_ 0.93_ 0.93_ 0.94_ 0.93_ 0.93_ 0.93_ 0.93_ 0.93_ 0.93_ 0.93_ 0.93_ 0.93_ "
     ]
    },
    {
     "data": {
      "text/plain": [
       "<tensorflow.python.keras.callbacks.History at 0x12380ee90>"
      ]
     },
     "execution_count": 12,
     "metadata": {},
     "output_type": "execute_result"
    }
   ],
   "source": [
    "l_cb=LambdaCallback(\n",
    "    on_epoch_end=lambda e,l: print('{:.2f}'.format(l['val_acc']),end='_ '))\n",
    "es_cb=EarlyStopping(monitor='val_loss',patience=10)\n",
    "model.fit(x,y,epochs=500,batch_size=256,validation_split=0.2,verbose=False,callbacks=[es_cb,l_cb])\n"
   ]
  },
  {
   "cell_type": "code",
   "execution_count": 13,
   "metadata": {
    "colab": {
     "base_uri": "https://localhost:8080/",
     "height": 187
    },
    "colab_type": "code",
    "id": "tlNtu_9ZvBOY",
    "outputId": "82198555-f0e8-4a7a-9125-cc61cf4f4a26"
   },
   "outputs": [
    {
     "name": "stdout",
     "output_type": "stream",
     "text": [
      "\u001b[32mInput76+99Out :00175 pred: 00175\u001b[0m\n",
      "\u001b[31mInput021+6Out :00027 pred: 00030\u001b[0m\n",
      "\u001b[31mInput89+85Out :00174 pred: 00164\u001b[0m\n",
      "\u001b[32mInput21+28Out :00049 pred: 00049\u001b[0m\n",
      "\u001b[32mInput03+89Out :00092 pred: 00092\u001b[0m\n",
      "\u001b[32mInput73+39Out :00112 pred: 00112\u001b[0m\n",
      "\u001b[32mInput51+46Out :00097 pred: 00097\u001b[0m\n",
      "\u001b[32mInput86+26Out :00112 pred: 00112\u001b[0m\n",
      "\u001b[32mInput56+62Out :00118 pred: 00118\u001b[0m\n",
      "\u001b[32mInput59+13Out :00072 pred: 00072\u001b[0m\n"
     ]
    }
   ],
   "source": [
    "x_test,y_test=create_dataset(10)\n",
    "preds=model.predict(x_test)\n",
    "\n",
    "for i,pred in enumerate(preds):\n",
    "    y=devectorize_example(y_test[i])\n",
    "    y_hat=devectorize_example(pred)\n",
    "    col='green'\n",
    "    if y!=y_hat:\n",
    "        col='red'\n",
    "        \n",
    "    out='Input'+devectorize_example(x_test[i])+'Out :'+y+ ' pred: '+y_hat\n",
    "    print(colored(out,col))\n",
    "    \n",
    "    \n",
    "    "
   ]
  }
 ],
 "metadata": {
  "accelerator": "GPU",
  "colab": {
   "collapsed_sections": [],
   "name": "addition_simpleRNN.ipynb",
   "provenance": [],
   "version": "0.3.2"
  },
  "kernelspec": {
   "display_name": "Python 3",
   "language": "python",
   "name": "python3"
  },
  "language_info": {
   "codemirror_mode": {
    "name": "ipython",
    "version": 3
   },
   "file_extension": ".py",
   "mimetype": "text/x-python",
   "name": "python",
   "nbconvert_exporter": "python",
   "pygments_lexer": "ipython3",
   "version": "3.7.7"
  }
 },
 "nbformat": 4,
 "nbformat_minor": 1
}
